{
 "cells": [
  {
   "cell_type": "code",
   "execution_count": 2,
   "metadata": {
    "collapsed": false
   },
   "outputs": [
    {
     "name": "stdout",
     "output_type": "stream",
     "text": [
      "Extracting /Users/liaoyuyu/Documents/DeepLearning/TensorFlow/LearnTensorFlowAndDeepLearningWithoutPHD../MNIST_data/train-images-idx3-ubyte.gz\n",
      "Extracting /Users/liaoyuyu/Documents/DeepLearning/TensorFlow/LearnTensorFlowAndDeepLearningWithoutPHD../MNIST_data/train-labels-idx1-ubyte.gz\n",
      "Extracting /Users/liaoyuyu/Documents/DeepLearning/TensorFlow/LearnTensorFlowAndDeepLearningWithoutPHD../MNIST_data/t10k-images-idx3-ubyte.gz\n",
      "Extracting /Users/liaoyuyu/Documents/DeepLearning/TensorFlow/LearnTensorFlowAndDeepLearningWithoutPHD../MNIST_data/t10k-labels-idx1-ubyte.gz\n"
     ]
    }
   ],
   "source": [
    "import tensorflow as tf\n",
    "import tensorflowvisu\n",
    "from tensorflow.contrib.learn.python.learn.datasets.mnist import read_data_sets\n",
    "import tensorflow.examples.tutorials.mnist.input_data as input_data\n",
    "import os\n",
    "tf.set_random_seed(202109)\n",
    "\n",
    "# The model is:\n",
    "#\n",
    "# Y = softmax( X * W + b)\n",
    "#              X: matrix for 100 grayscale images of 28x28 pixels, flattened (there are 100 images in a mini-batch)\n",
    "#              W: weight matrix with 784 lines and 10 columns\n",
    "#              b: bias vector with 10 dimensions\n",
    "#              +: add with broadcasting: adds the vector to each line of the matrix (numpy)\n",
    "#              softmax(matrix) applies softmax on each line\n",
    "#              softmax(line) applies an exp to each value then divides by the norm of the resulting line\n",
    "#              Y: output matrix with 100 lines and 10 columns\n",
    "\n",
    "# Download images \n",
    "#mnist = read_data_sets(\"data\", one_hot=True, reshape=False, validation_size=0)\n",
    "# if you have downloaded, just read data \n",
    "mnist = input_data.read_data_sets(os.getcwd() + \"../MNIST_data/\", one_hot=True, reshape=False, validation_size=0)"
   ]
  },
  {
   "cell_type": "code",
   "execution_count": 3,
   "metadata": {
    "collapsed": false
   },
   "outputs": [],
   "source": [
    "# input X: 28x28 grayscal images\n",
    "# 1-dimension: the number of data, 2 & 3-dimension: the number of image height and weight, \n",
    "# 4-dimension: the number of image's color, 1 is grayscal, 3 is RGB\n",
    "X = tf.placeholder(tf.float32, [None, 28, 28, 1])\n",
    "\n",
    "# output\n",
    "Y_ = tf.placeholder(tf.float32, [None, 10])\n",
    "\n",
    "# weights \n",
    "W = tf.Variable(tf.zeros([784, 10]))\n",
    "\n",
    "# bias\n",
    "b = tf.Variable(tf.zeros([10]))\n",
    "\n",
    "# flatten the images \n",
    "# -1 in the shape definition means the only possible dimension that will preserve the number of elements\n",
    "XX = tf.reshape(X, [-1, 784])\n",
    "\n",
    "# Building Model\n",
    "Y = tf.nn.softmax(tf.matmul(XX, W) + b)\n",
    "\n",
    "# loss function: cross-entropy = - sum( Y_i * log(Yi) )\n",
    "#                           Yi: the computed output vector\n",
    "#                           Y_i: the desired output vector\n",
    "# log takes the log of each element, * multiplies the tensors element by element\n",
    "# reduce_mean will add all the components in the tensor\n",
    "# so here we end up with the total cross-entropy for all images in the batch\n",
    "cross_entropy = -tf.reduce_sum(Y_ * tf.log(Y))\n",
    "\n",
    "# accuracy of the train model\n",
    "# tf.cast: convert the data type\n",
    "correct_prediction = tf.equal(tf.argmax(Y, 1), tf.argmax(Y_, 1))\n",
    "accuracy = tf.reduce_mean(tf.cast(correct_prediction, tf.float32))\n",
    "\n",
    "# optimizer \n",
    "learning_rate = 0.003\n",
    "optimizer = tf.train.GradientDescentOptimizer(learning_rate)\n",
    "train_step = optimizer.minimize(cross_entropy)"
   ]
  },
  {
   "cell_type": "code",
   "execution_count": 6,
   "metadata": {
    "collapsed": false,
    "scrolled": true
   },
   "outputs": [
    {
     "name": "stdout",
     "output_type": "stream",
     "text": [
      "epoch:1, loss:36.977073, train_accuracy:0.9068\n",
      "epoch:2, loss:28.035979, train_accuracy:0.92395\n",
      "epoch:3, loss:26.549807, train_accuracy:0.928017\n",
      "epoch:4, loss:25.742294, train_accuracy:0.929933\n",
      "epoch:5, loss:25.177904, train_accuracy:0.931867\n",
      "epoch:6, loss:24.795924, train_accuracy:0.933567\n",
      "epoch:7, loss:24.529873, train_accuracy:0.934017\n",
      "epoch:8, loss:24.211202, train_accuracy:0.93445\n",
      "epoch:9, loss:24.048047, train_accuracy:0.935567\n",
      "epoch:10, loss:23.812906, train_accuracy:0.935583\n",
      "epoch:11, loss:23.754646, train_accuracy:0.935283\n",
      "epoch:12, loss:23.604938, train_accuracy:0.936283\n",
      "epoch:13, loss:23.489039, train_accuracy:0.937367\n",
      "epoch:14, loss:23.35626, train_accuracy:0.937433\n",
      "epoch:15, loss:23.25548, train_accuracy:0.936933\n",
      "epoch:16, loss:23.180073, train_accuracy:0.937917\n",
      "epoch:17, loss:23.060012, train_accuracy:0.938333\n",
      "epoch:18, loss:22.974014, train_accuracy:0.938167\n",
      "epoch:19, loss:22.946191, train_accuracy:0.93885\n",
      "epoch:20, loss:22.863865, train_accuracy:0.9385\n",
      "epoch:21, loss:22.775324, train_accuracy:0.939167\n",
      "epoch:22, loss:22.736381, train_accuracy:0.9395\n",
      "epoch:23, loss:22.688002, train_accuracy:0.939883\n",
      "epoch:24, loss:22.601447, train_accuracy:0.93935\n",
      "epoch:25, loss:22.529816, train_accuracy:0.9396\n"
     ]
    }
   ],
   "source": [
    "# initial \n",
    "init = tf.global_variables_initializer()\n",
    "sess = tf.Session()\n",
    "sess.run(init)\n",
    "\n",
    "epoch_set = []\n",
    "accuracy_set = []\n",
    "loss_set = []\n",
    "batch_size = 100\n",
    "training_epochs = 25\n",
    "display_step = 1\n",
    "for epoch in range(training_epochs):\n",
    "    avg_accuracy = 0\n",
    "    avg_loss = 0\n",
    "    total_batch = int(mnist.train.num_examples/batch_size)\n",
    "    for i in range(total_batch):\n",
    "        # load batch of images \n",
    "        batch_X, batch_Y = mnist.train.next_batch(batch_size)\n",
    "        train_data = {X:batch_X, Y_:batch_Y}\n",
    "    \n",
    "        # train\n",
    "        sess.run(train_step, feed_dict=train_data)\n",
    "    \n",
    "        # accuracy\n",
    "        train_acc, train_corr = sess.run([accuracy, cross_entropy], feed_dict=train_data)\n",
    "        avg_accuracy += train_acc/total_batch\n",
    "        avg_loss += train_corr/total_batch\n",
    "        \n",
    "    epoch_set.append(epoch + 1)\n",
    "    accuracy_set.append(avg_accuracy)\n",
    "    loss_set.append(avg_loss)\n",
    "    if epoch % display_step ==0:\n",
    "        print(\"epoch:\" + str(epoch + 1) + \", loss:\" + str(round(avg_loss, 6)) +\n",
    "              \", train_accuracy:\" + str(round(avg_accuracy, 6)))\n",
    "    # test\n",
    "    #test_data = {X:mnist.test.images, Y_:mnist.test.labels}\n",
    "    #acc, corr = sess.run([accuracy, cross_entropy], feed=test_data)"
   ]
  },
  {
   "cell_type": "code",
   "execution_count": null,
   "metadata": {
    "collapsed": false
   },
   "outputs": [
    {
     "name": "stdout",
     "output_type": "stream",
     "text": [
      "WARNING:tensorflow:From <ipython-input-7-57d0c6e0d598>:9 in <module>.: initialize_all_variables (from tensorflow.python.ops.variables) is deprecated and will be removed after 2017-03-02.\n",
      "Instructions for updating:\n",
      "Use `tf.global_variables_initializer` instead.\n",
      "0: accuracy:0.17 loss: 230.259\n",
      "0: ********* epoch 1 ********* test accuracy:0.098 test loss: 23026.0\n",
      "10: accuracy:0.74 loss: 107.654\n",
      "10: ********* epoch 1 ********* test accuracy:0.7468 test loss: 10059.9\n",
      "20: accuracy:0.79 loss: 79.35\n",
      "20: ********* epoch 1 ********* test accuracy:0.8434 test loss: 7182.87\n",
      "30: accuracy:0.8 loss: 69.8562\n",
      "30: ********* epoch 1 ********* test accuracy:0.8536 test loss: 6213.49\n",
      "40: accuracy:0.88 loss: 50.3314\n",
      "40: ********* epoch 1 ********* test accuracy:0.8598 test loss: 5564.89\n",
      "50: accuracy:0.86 loss: 45.5421\n",
      "50: ********* epoch 1 ********* test accuracy:0.8706 test loss: 5117.06\n",
      "60: accuracy:0.8 loss: 65.1032\n",
      "70: accuracy:0.89 loss: 48.8543\n",
      "80: accuracy:0.94 loss: 35.4182\n",
      "90: accuracy:0.84 loss: 50.1118\n",
      "100: accuracy:0.94 loss: 31.9634\n",
      "100: ********* epoch 1 ********* test accuracy:0.8898 test loss: 4207.8\n",
      "110: accuracy:0.84 loss: 61.3846\n",
      "120: accuracy:0.86 loss: 42.5886\n",
      "130: accuracy:0.89 loss: 47.1162\n",
      "140: accuracy:0.9 loss: 40.8246\n",
      "150: accuracy:0.88 loss: 43.3164\n",
      "150: ********* epoch 1 ********* test accuracy:0.8977 test loss: 3893.92\n",
      "160: accuracy:0.91 loss: 33.1111\n",
      "170: accuracy:0.88 loss: 44.9352\n",
      "180: accuracy:0.9 loss: 42.186\n",
      "190: accuracy:0.88 loss: 38.0137\n",
      "201: accuracy:0.92 loss: 34.5064\n",
      "201: ********* epoch 1 ********* test accuracy:0.8986 test loss: 3695.38\n"
     ]
    }
   ],
   "source": [
    "# matplotlib visualisation\n",
    "allweights = tf.reshape(W, [-1])\n",
    "allbiases = tf.reshape(b, [-1])\n",
    "I = tensorflowvisu.tf_format_mnist_images(X, Y, Y_)  # assembles 10x10 images by default\n",
    "It = tensorflowvisu.tf_format_mnist_images(X, Y, Y_, 1000, lines=25)  # 1000 images on 25 lines\n",
    "datavis = tensorflowvisu.MnistDataVis()\n",
    "\n",
    "# init\n",
    "init = tf.initialize_all_variables()\n",
    "sess = tf.Session()\n",
    "sess.run(init)\n",
    "\n",
    "\n",
    "# You can call this function in a loop to train the model, 100 images at a time\n",
    "def training_step(i, update_test_data, update_train_data):\n",
    "\n",
    "    # training on batches of 100 images with 100 labels\n",
    "    batch_X, batch_Y = mnist.train.next_batch(100)\n",
    "\n",
    "    # compute training values for visualisation\n",
    "    if update_train_data:\n",
    "        a, c, im, w, b = sess.run([accuracy, cross_entropy, I, allweights, allbiases], feed_dict={X: batch_X, Y_: batch_Y})\n",
    "        datavis.append_training_curves_data(i, a, c)\n",
    "        datavis.append_data_histograms(i, w, b)\n",
    "        datavis.update_image1(im)\n",
    "        print(str(i) + \": accuracy:\" + str(a) + \" loss: \" + str(c))\n",
    "\n",
    "    # compute test values for visualisation\n",
    "    if update_test_data:\n",
    "        a, c, im = sess.run([accuracy, cross_entropy, It], feed_dict={X: mnist.test.images, Y_: mnist.test.labels})\n",
    "        datavis.append_test_curves_data(i, a, c)\n",
    "        datavis.update_image2(im)\n",
    "        print(str(i) + \": ********* epoch \" + str(i*100//mnist.train.images.shape[0]+1) + \" ********* test accuracy:\" + str(a) + \" test loss: \" + str(c))\n",
    "\n",
    "    # the backpropagation training step\n",
    "    sess.run(train_step, feed_dict={X: batch_X, Y_: batch_Y})\n",
    "\n",
    "\n",
    "datavis.animate(training_step, iterations=200+1, train_data_update_freq=10, test_data_update_freq=50, more_tests_at_start=True)\n",
    "\n",
    "# to save the animation as a movie, add save_movie=True as an argument to datavis.animate\n",
    "# to disable the visualisation use the following line instead of the datavis.animate line\n",
    "# for i in range(2000+1): training_step(i, i % 50 == 0, i % 10 == 0)\n",
    "\n",
    "print(\"max test accuracy: \" + str(datavis.get_max_test_accuracy()))"
   ]
  },
  {
   "cell_type": "code",
   "execution_count": 56,
   "metadata": {
    "collapsed": false
   },
   "outputs": [
    {
     "data": {
      "image/png": "[encoded data removed]",
      "text/plain": [
       "<matplotlib.figure.Figure at 0x1192d9748>"
      ]
     },
     "metadata": {},
     "output_type": "display_data"
    }
   ],
   "source": [
    "# data visualization\n",
    "import matplotlib.pyplot as plt\n",
    "%matplotlib inline  \n",
    "p1 = plt.subplot(121)\n",
    "p2 = plt.subplot(122)\n",
    "\n",
    "p1.plot(epoch_set, accuracy_set, lw=2)\n",
    "p1.axis([0, 25.5, 0, 1])\n",
    "#plt.xlim(0, 30)\n",
    "#plt.ylim(0, 1)\n",
    "p1.set_xlabel('epoch', fontsize=14)\n",
    "p1.grid(True)\n",
    "p1.set_title('Accuracy')\n",
    "\n",
    "p2.plot(epoch_set, loss_set, lw=2)\n",
    "p2.axis([0, 25.5, 0, 100])\n",
    "p2.set_xlabel('epoch', fontsize=14)\n",
    "p2.set_title('Cross entropy loss')\n",
    "#plt.legend(loc='upper right')\n",
    "\n",
    "plt.show()"
   ]
  }
 ],
 "metadata": {
  "kernelspec": {
   "display_name": "Python 3",
   "language": "python",
   "name": "python3"
  },
  "language_info": {
   "codemirror_mode": {
    "name": "ipython",
    "version": 3
   },
   "file_extension": ".py",
   "mimetype": "text/x-python",
   "name": "python",
   "nbconvert_exporter": "python",
   "pygments_lexer": "ipython3",
   "version": "3.5.1"
  }
 },
 "nbformat": 4,
 "nbformat_minor": 0
}
