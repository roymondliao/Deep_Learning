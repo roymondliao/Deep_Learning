{
 "cells": [
  {
   "cell_type": "code",
   "execution_count": 1,
   "metadata": {
    "collapsed": false
   },
   "outputs": [
    {
     "name": "stdout",
     "output_type": "stream",
     "text": [
      "Extracting ../../DeepLearning/TensorFlow/MNIST_data/train-images-idx3-ubyte.gz\n",
      "Extracting ../../DeepLearning/TensorFlow/MNIST_data/train-labels-idx1-ubyte.gz\n",
      "Extracting ../../DeepLearning/TensorFlow/MNIST_data/t10k-images-idx3-ubyte.gz\n",
      "Extracting ../../DeepLearning/TensorFlow/MNIST_data/t10k-labels-idx1-ubyte.gz\n"
     ]
    }
   ],
   "source": [
    "import tensorflow.examples.tutorials.mnist.input_data as input_data\n",
    "import tensorflow as tf\n",
    "import numpy as np\n",
    "\n",
    "# load mnist data\n",
    "mnist = input_data.read_data_sets(\"../../DeepLearning/TensorFlow/MNIST_data/\", one_hot=True)\n",
    "\n",
    "# define parameter \n",
    "training_epochs = 20\n",
    "learning_rate = 0.001\n",
    "batch_size = 100\n",
    "display_step = 1\n",
    "\n",
    "n_hidden_1 = 256\n",
    "n_hidden_2 = 256\n",
    "n_input = 784 # 28x28\n",
    "n_classes =10 # output"
   ]
  },
  {
   "cell_type": "code",
   "execution_count": 3,
   "metadata": {
    "collapsed": false
   },
   "outputs": [],
   "source": [
    "# define placeholder\n",
    "x = tf.placeholder(\"float\", [None, n_input])\n",
    "y = tf.placeholder(\"float\", [None, n_classes])\n",
    "\n",
    "# hidden layer 1\n",
    "w_1 = tf.Variable(tf.random_normal([n_input, n_hidden_1]))\n",
    "bias_layer_1 = tf.Variable(tf.random_normal([n_hidden_1]))\n",
    "layer_1 = tf.nn.sigmoid(tf.add(tf.matmul(x, w_1), bias_layer_1))\n",
    "\n",
    "# hidden layer 2\n",
    "w_2 = tf.Variable(tf.random_normal([n_hidden_1, n_hidden_2]))\n",
    "bias_layer_2 = tf.Variable(tf.random_normal([n_hidden_2]))\n",
    "layer_2 = tf.nn.sigmoid(tf.add(tf.matmul(layer_1, w_2), bias_layer_2))\n",
    "\n",
    "# output layer\n",
    "output = tf.Variable(tf.random_normal([n_hidden_2, n_classes]))\n",
    "bias_output = tf.Variable(tf.random_normal([n_classes]))\n",
    "output_layer = tf.matmul(layer_2, output) + bias_output\n",
    "\n",
    "# cost function\n",
    "cost = tf.reduce_mean(tf.nn.softmax_cross_entropy_with_logits(output_layer, y))\n",
    "\n",
    "# optimizer use Adam\n",
    "optimizer = tf.train.AdamOptimizer(learning_rate=learning_rate).minimize(cost)"
   ]
  },
  {
   "cell_type": "code",
   "execution_count": 4,
   "metadata": {
    "collapsed": false
   },
   "outputs": [
    {
     "name": "stdout",
     "output_type": "stream",
     "text": [
      "Epoch=1, cost=2.1423022209514286\n",
      "Epoch=2, cost=0.5946602214466445\n",
      "Epoch=3, cost=0.38805539506402903\n",
      "Epoch=4, cost=0.27986722402274633\n",
      "Epoch=5, cost=0.20928028891032385\n",
      "Epoch=6, cost=0.16040486884049385\n",
      "Epoch=7, cost=0.12307073348286474\n",
      "Epoch=8, cost=0.09561252054673701\n",
      "Epoch=9, cost=0.07382606133987962\n",
      "Epoch=10, cost=0.0567218296957964\n",
      "Epoch=11, cost=0.043067189593884045\n",
      "Epoch=12, cost=0.03227980075488713\n",
      "Epoch=13, cost=0.024745416386391637\n",
      "Epoch=14, cost=0.018817604731937693\n",
      "Epoch=15, cost=0.014391869742592638\n",
      "Epoch=16, cost=0.010886369836940005\n",
      "Epoch=17, cost=0.008388980089432816\n",
      "Epoch=18, cost=0.00636382961751555\n",
      "Epoch=19, cost=0.005010759046682238\n",
      "Epoch=20, cost=0.003875223654533991\n",
      "Model accuracy:0.9449999928474426\n",
      "Finished\n"
     ]
    }
   ],
   "source": [
    "import matplotlib.pyplot as plt\n",
    "avg_set = []\n",
    "epoch_set = []\n",
    "init = tf.global_variables_initializer()\n",
    "with tf.Session() as sess:\n",
    "    sess.run(init)\n",
    "    for epoch in range(training_epochs):\n",
    "        avg_cost = 0\n",
    "        total_batch = int(mnist.train.num_examples/batch_size)\n",
    "        for i in range(total_batch):\n",
    "            batch_xs, batch_ys = mnist.train.next_batch(batch_size)\n",
    "            sess.run(optimizer, feed_dict={x:batch_xs, y:batch_ys})\n",
    "            avg_cost += sess.run(cost, feed_dict={x:batch_xs, y:batch_ys})/total_batch\n",
    "        avg_set.append(avg_cost)\n",
    "        epoch_set.append(epoch + 1)\n",
    "        \n",
    "        if epoch % display_step ==0:\n",
    "            print(\"Epoch={}, cost={}\".format(epoch+1, avg_cost))\n",
    "    # data visualization\n",
    "    plt.plot(epoch_set, avg_set, 'o', label='Logistic Regression Training phase')\n",
    "    plt.ylabel('cost')\n",
    "    plt.xlabel('epoch')\n",
    "    plt.legend()\n",
    "    plt.show()    \n",
    "    # test model\n",
    "    # tf.cast : 轉換資料型態\n",
    "    # t.eval()就是sess.run(t), t的型態是tensor, If t is a Tensor object, t.eval() is shorthand for sess.run(t) \n",
    "    correct_prediction = tf.equal(tf.argmax(output_layer, 1), tf.argmax(y, 1))\n",
    "    accuracy = tf.reduce_mean(tf.cast(correct_prediction, \"float\"))\n",
    "    print(\"Model accuracy:{}\".format(accuracy.eval({x:mnist.test.images, y:mnist.test.labels})))\n",
    "print(\"Finished\")"
   ]
  }
 ],
 "metadata": {
  "kernelspec": {
   "display_name": "Python 3",
   "language": "python",
   "name": "python3"
  },
  "language_info": {
   "codemirror_mode": {
    "name": "ipython",
    "version": 3
   },
   "file_extension": ".py",
   "mimetype": "text/x-python",
   "name": "python",
   "nbconvert_exporter": "python",
   "pygments_lexer": "ipython3",
   "version": "3.5.1"
  }
 },
 "nbformat": 4,
 "nbformat_minor": 0
}
