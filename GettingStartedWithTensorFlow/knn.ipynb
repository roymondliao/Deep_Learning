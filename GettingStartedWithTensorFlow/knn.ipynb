{
 "cells": [
  {
   "cell_type": "code",
   "execution_count": 2,
   "metadata": {
    "collapsed": false
   },
   "outputs": [],
   "source": [
    "import numpy as np\n",
    "\n",
    "number_of_point = 500\n",
    "\n",
    "X_point = []\n",
    "y_point = []\n",
    "\n",
    "a = 0.22\n",
    "b = 0.78\n",
    "\n",
    "for i in range(number_of_point):\n",
    "    x = np.random.normal(0.0, 0.5)\n",
    "    y = a*x + b + np.random.normal(0.0, 0.1)\n",
    "    X_point.append(x)\n",
    "    y_point.append(y)"
   ]
  },
  {
   "cell_type": "code",
   "execution_count": 5,
   "metadata": {
    "collapsed": false
   },
   "outputs": [],
   "source": [
    "import matplotlib.pyplot as plt\n",
    "plt.plot(X_point, y_point, 'o', label = 'Input Data')\n",
    "plt.legend()\n",
    "plt.show()"
   ]
  },
  {
   "cell_type": "code",
   "execution_count": 11,
   "metadata": {
    "collapsed": false
   },
   "outputs": [],
   "source": [
    "import tensorflow as tf\n",
    "A = tf.Variable(tf.random_uniform([1], minval=-1.0, maxval=1.0, dtype=tf.float32))\n",
    "b = tf.Variable(tf.zeros([1]))\n",
    "y = A*X_point + b\n",
    "# define cost function\n",
    "cost_function = tf.reduce_mean(tf.square(y - y_point))\n",
    "\n",
    "# use gradient descent\n",
    "optimizer = tf.train.GradientDescentOptimizer(0.5)\n",
    "\n",
    "# minimize cost function to find better parameter \n",
    "train = optimizer.minimize(cost_function)"
   ]
  },
  {
   "cell_type": "code",
   "execution_count": 16,
   "metadata": {
    "collapsed": false
   },
   "outputs": [
    {
     "name": "stdout",
     "output_type": "stream",
     "text": [
      "Step:0\n",
      "Step:1\n",
      "Step:2\n",
      "Step:3\n",
      "Step:4\n",
      "Step:5\n",
      "Step:6\n",
      "Step:7\n",
      "Step:8\n",
      "Step:9\n",
      "Step:10\n",
      "Step:11\n",
      "Step:12\n",
      "Step:13\n",
      "Step:14\n",
      "Step:15\n",
      "Step:16\n",
      "Step:17\n",
      "Step:18\n",
      "Step:19\n"
     ]
    }
   ],
   "source": [
    "# initial variables\n",
    "model = tf.global_variables_initializer()\n",
    "\n",
    "# run session\n",
    "with tf.Session() as session:\n",
    "    session.run(model)\n",
    "    for step in range(0, 20):\n",
    "        session.run(train)\n",
    "        print(\"Step:{}\".format(step))\n",
    "        if (step % 5) == 0:\n",
    "            plt.plot(X_point, y_point, 'o', label='step ={}'.format(step))\n",
    "            plt.plot(X_point, session.run(A) * X_point + session.run(b))\n",
    "            plt.legend()\n",
    "            plt.show()\n"
   ]
  },
  {
   "cell_type": "code",
   "execution_count": 20,
   "metadata": {
    "collapsed": false
   },
   "outputs": [
    {
     "name": "stdout",
     "output_type": "stream",
     "text": [
      "Extracting ../../DeepLearning/TensorFlow/MNIST_data/train-images-idx3-ubyte.gz\n",
      "Extracting ../../DeepLearning/TensorFlow/MNIST_data/train-labels-idx1-ubyte.gz\n",
      "Extracting ../../DeepLearning/TensorFlow/MNIST_data/t10k-images-idx3-ubyte.gz\n",
      "Extracting ../../DeepLearning/TensorFlow/MNIST_data/t10k-labels-idx1-ubyte.gz\n"
     ]
    }
   ],
   "source": [
    "import tensorflow.examples.tutorials.mnist.input_data as input_data\n",
    "import os\n",
    "mnist = input_data.read_data_sets(\"../../DeepLearning/TensorFlow/MNIST_data/\", one_hot=True)"
   ]
  },
  {
   "cell_type": "code",
   "execution_count": 57,
   "metadata": {
    "collapsed": true
   },
   "outputs": [],
   "source": [
    "train_pixels, train_list_of_values = mnist.train.next_batch(100)\n",
    "test_pixels, test_list_of_values = mnist.train.next_batch(10)"
   ]
  },
  {
   "cell_type": "code",
   "execution_count": 66,
   "metadata": {
    "collapsed": false
   },
   "outputs": [
    {
     "name": "stdout",
     "output_type": "stream",
     "text": [
      "Index :8\n",
      "Test K-nearest neighbor:0, Predicted Class:6, True Class:6\n",
      "Index :3\n",
      "Test K-nearest neighbor:1, Predicted Class:6, True Class:6\n",
      "Index :90\n",
      "Test K-nearest neighbor:2, Predicted Class:7, True Class:7\n",
      "Index :7\n",
      "Test K-nearest neighbor:3, Predicted Class:4, True Class:4\n",
      "Index :22\n",
      "Test K-nearest neighbor:4, Predicted Class:2, True Class:2\n",
      "Index :93\n",
      "Test K-nearest neighbor:5, Predicted Class:5, True Class:3\n",
      "Index :72\n",
      "Test K-nearest neighbor:6, Predicted Class:9, True Class:9\n",
      "Index :75\n",
      "Test K-nearest neighbor:7, Predicted Class:0, True Class:0\n",
      "Index :15\n",
      "Test K-nearest neighbor:8, Predicted Class:1, True Class:2\n",
      "Index :75\n",
      "Test K-nearest neighbor:9, Predicted Class:0, True Class:0\n",
      "Result:0.8\n"
     ]
    }
   ],
   "source": [
    "train_pixel_tensor = tf.placeholder(dtype=\"float\", shape=[None, train_pixels.shape[1]])\n",
    "test_pixel_tensor = tf.placeholder(dtype=\"float\", shape=[test_pixels.shape[1]])\n",
    "\n",
    "# define cost function\n",
    "distance = tf.reduce_sum(tf.abs(tf.subtract(train_pixel_tensor, test_pixel_tensor)), axis=1)\n",
    "pred = tf.argmin(distance, 0)\n",
    "\n",
    "# calculate accuracy\n",
    "accuracy = 0\n",
    "init = tf.global_variables_initializer()\n",
    "with tf.Session() as sess:\n",
    "    sess.run(init)\n",
    "    for i in range(len(test_list_of_values)):\n",
    "        nn_index = sess.run(pred, feed_dict={train_pixel_tensor:train_pixels, test_pixel_tensor:test_pixels[i, :]})\n",
    "        print(\"Index :{}\".format(nn_index))\n",
    "        print(\"Test K-nearest neighbor:{}, Predicted Class:{}, True Class:{}\".\n",
    "              format(i, np.argmax(train_list_of_values[nn_index]), np.argmax(test_list_of_values[i])))\n",
    "        if np.argmax(train_list_of_values[nn_index]) == np.argmax(test_list_of_values[i]):\n",
    "            accuracy += 1\n",
    "    print(\"Result:{}\".format(accuracy/len(test_pixels)))"
   ]
  },
  {
   "cell_type": "code",
   "execution_count": 63,
   "metadata": {
    "collapsed": false
   },
   "outputs": [
    {
     "data": {
      "text/plain": [
       "10"
      ]
     },
     "execution_count": 63,
     "metadata": {},
     "output_type": "execute_result"
    }
   ],
   "source": [
    "len(test_pixels)"
   ]
  }
 ],
 "metadata": {
  "kernelspec": {
   "display_name": "Python 3",
   "language": "python",
   "name": "python3"
  },
  "language_info": {
   "codemirror_mode": {
    "name": "ipython",
    "version": 3
   },
   "file_extension": ".py",
   "mimetype": "text/x-python",
   "name": "python",
   "nbconvert_exporter": "python",
   "pygments_lexer": "ipython3",
   "version": "3.5.1"
  }
 },
 "nbformat": 4,
 "nbformat_minor": 0
}
