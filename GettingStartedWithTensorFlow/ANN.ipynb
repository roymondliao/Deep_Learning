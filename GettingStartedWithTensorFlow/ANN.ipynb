{
 "cells": [
  {
   "cell_type": "code",
   "execution_count": 2,
   "metadata": {
    "collapsed": false
   },
   "outputs": [
    {
     "name": "stdout",
     "output_type": "stream",
     "text": [
      "Extracting ../../DeepLearning/TensorFlow/MNIST_data/train-images-idx3-ubyte.gz\n",
      "Extracting ../../DeepLearning/TensorFlow/MNIST_data/train-labels-idx1-ubyte.gz\n",
      "Extracting ../../DeepLearning/TensorFlow/MNIST_data/t10k-images-idx3-ubyte.gz\n",
      "Extracting ../../DeepLearning/TensorFlow/MNIST_data/t10k-labels-idx1-ubyte.gz\n"
     ]
    }
   ],
   "source": [
    "import tensorflow.examples.tutorials.mnist.input_data as input_data\n",
    "import tensorflow as tf\n",
    "import numpy as np\n",
    "\n",
    "# load mnist data\n",
    "mnist = input_data.read_data_sets(\"../../DeepLearning/TensorFlow/MNIST_data/\", one_hot=True)\n",
    "\n",
    "# define parameter \n",
    "training_epochs = 25\n",
    "learning_rate = 0.01\n",
    "batch_size = 100\n",
    "display_step = 1\n",
    "\n",
    "# define input and output data structure\n",
    "x = tf.placeholder(\"float\", [None, 784])\n",
    "y = tf.placeholder(\"float\", [None, 10])\n",
    "\n",
    "W = tf.Variable(tf.zeros([784, 10]))\n",
    "b = tf.Variable(tf.zeros([10]))\n",
    "evidence = tf.matmul(x, W) + b\n",
    "activation = tf.nn.softmax(evidence)\n",
    "\n",
    "# using cross entropy\n",
    "cross_entropy = y*tf.log(activation)\n",
    "cost = tf.reduce_mean(-tf.reduce_sum(cross_entropy, axis=1))\n",
    "optimizer = tf.train.GradientDescentOptimizer(learning_rate).minimize(cost)"
   ]
  },
  {
   "cell_type": "code",
   "execution_count": 25,
   "metadata": {
    "collapsed": false,
    "scrolled": true
   },
   "outputs": [
    {
     "name": "stdout",
     "output_type": "stream",
     "text": [
      "Epoch=1, cost=1.1768588223240595\n",
      "Epoch=2, cost=0.6625711301240057\n",
      "Epoch=3, cost=0.5507030035690824\n",
      "Epoch=4, cost=0.49675798687067885\n",
      "Epoch=5, cost=0.46369187078692703\n",
      "Epoch=6, cost=0.4409448765895586\n",
      "Epoch=7, cost=0.4239794313365759\n",
      "Epoch=8, cost=0.4106432312997901\n",
      "Epoch=9, cost=0.3999360819838265\n",
      "Epoch=10, cost=0.39094299430196955\n",
      "Epoch=11, cost=0.38335523803125754\n",
      "Epoch=12, cost=0.37680201156572857\n",
      "Epoch=13, cost=0.3710072204741561\n",
      "Epoch=14, cost=0.3659683746370404\n",
      "Epoch=15, cost=0.3614073203097689\n",
      "Epoch=16, cost=0.3572758104855368\n",
      "Epoch=17, cost=0.3535448536547747\n",
      "Epoch=18, cost=0.35015734650871955\n",
      "Epoch=19, cost=0.347019466026263\n",
      "Epoch=20, cost=0.3441024398261851\n",
      "Epoch=21, cost=0.3414674735611137\n",
      "Epoch=22, cost=0.3389622612974859\n",
      "Epoch=23, cost=0.33670510847460133\n",
      "Epoch=24, cost=0.33453393185680597\n",
      "Epoch=25, cost=0.3324484076012262\n",
      "Model accuracy:0.9135000109672546\n",
      "Finished\n"
     ]
    }
   ],
   "source": [
    "avg_set = []\n",
    "epoch_set = []\n",
    "init = tf.global_variables_initializer()\n",
    "with tf.Session() as sess:\n",
    "    sess.run(init)\n",
    "    for epoch in range(training_epochs):\n",
    "        avg_cost = 0\n",
    "        total_batch = int(mnist.train.num_examples/batch_size)\n",
    "        for i in range(total_batch):\n",
    "            batch_xs, batch_ys = mnist.train.next_batch(batch_size)\n",
    "            sess.run(optimizer, feed_dict={x: batch_xs, y: batch_ys})\n",
    "            avg_cost += sess.run(cost, feed_dict={x :batch_xs, y: batch_ys})/total_batch\n",
    "            \n",
    "        avg_set.append(avg_cost)\n",
    "        epoch_set.append(epoch + 1)\n",
    "        \n",
    "        if epoch % display_step ==0:\n",
    "            print(\"Epoch={}, cost={}\".format(epoch+1, avg_cost))\n",
    "            \n",
    "    # data visualization\n",
    "    import matplotlib.pyplot as plt\n",
    "    plt.plot(epoch_set, avg_set, 'o', label='Logistic Regression Training phase')\n",
    "    plt.ylabel('cost')\n",
    "    plt.xlabel('epoch')\n",
    "    plt.legend()\n",
    "    plt.show()\n",
    "    \n",
    "    # ues test data to calucalte accuracy\n",
    "    # tf.cast : 轉換資料型態\n",
    "    # t.eval()就是sess.run(t), t的型態是tensor, If t is a Tensor object, t.eval() is shorthand for sess.run(t) \n",
    "    correct_prediction = tf.equal(tf.argmax(activation, 1), tf.argmax(y, 1))\n",
    "    accuracy = tf.reduce_mean(tf.cast(correct_prediction, \"float\"))\n",
    "    print(\"Model accuracy:{}\".format(accuracy.eval({x:mnist.test.images, y:mnist.test.labels})))\n",
    "print(\"Finished\")"
   ]
  }
 ],
 "metadata": {
  "kernelspec": {
   "display_name": "Python 3",
   "language": "python",
   "name": "python3"
  },
  "language_info": {
   "codemirror_mode": {
    "name": "ipython",
    "version": 3
   },
   "file_extension": ".py",
   "mimetype": "text/x-python",
   "name": "python",
   "nbconvert_exporter": "python",
   "pygments_lexer": "ipython3",
   "version": "3.5.1"
  }
 },
 "nbformat": 4,
 "nbformat_minor": 0
}
