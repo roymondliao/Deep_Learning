{
 "cells": [
  {
   "cell_type": "code",
   "execution_count": 76,
   "metadata": {
    "collapsed": false
   },
   "outputs": [],
   "source": [
    "import numpy as np\n",
    "import tensorflow as tf\n",
    "import pandas as pd\n",
    "\n",
    "# define paramter \n",
    "num_vectors = 1000\n",
    "num_clusters = 4\n",
    "num_steps = 100\n",
    "\n",
    "# inital data strcture\n",
    "x_values = []\n",
    "y_values = []\n",
    "vector_values = []\n",
    "\n",
    "# create train data\n",
    "for i in range(num_vectors):\n",
    "    if np.random.random() > 0.5:\n",
    "        x_values.append(np.random.normal(0.4, 0.7))\n",
    "        y_values.append(np.random.normal(0.2, 0.8))\n",
    "    else:\n",
    "        x_values.append(np.random.normal(0.6, 0.4))\n",
    "        y_values.append(np.random.normal(0.8, 0.5))\n",
    "\n",
    "# combine x_valus and y_values to be a tuple        \n",
    "vector_values = zip(x_values, y_values)\n",
    "vectors = tf.constant(list(vector_values))\n",
    "\n",
    "# initial centroid\n",
    "n_sample = tf.shape(vectors)[0]\n",
    "random_indices = tf.random_shuffle(tf.range(0, n_sample))\n",
    "begin = [0,]\n",
    "size = [num_clusters, ]\n",
    "centroid_indices = tf.slice(random_indices, begin, size)\n",
    "centroids = tf.Variable(tf.gather(vectors, centroid_indices))\n",
    "\n",
    "# cost function, tf.expand_dims : 延伸向量的維度, 0加在前面, 1加在後面\n",
    "expanded_vectors = tf.expand_dims(vectors, 0)\n",
    "expanded_centroids = tf.expand_dims(centroids, 1)\n",
    "vectors_subtration = tf.sub(expanded_vectors, expanded_centroids)\n",
    "eucliden_distances = tf.reduce_sum(tf.square(vectors_subtration), 2)\n",
    "assignments = tf.to_int32(tf.argmin(eucliden_distances, 0))\n",
    "\n",
    "# tf.dynamic_partition : 將索引（assignments）的結果分類到各個群（num_clusters）之中\n",
    "partitions = tf.dynamic_partition(vectors, assignments, num_clusters)\n",
    "\n",
    "# update centroid, tf.concat : 將指定維度的向量合併在一起\n",
    "update_centroids = tf.concat(0, [tf.expand_dims(tf.reduce_mean(partition, 0), 0) for partition in partitions])"
   ]
  },
  {
   "cell_type": "code",
   "execution_count": 78,
   "metadata": {
    "collapsed": false
   },
   "outputs": [],
   "source": [
    "# display result \n",
    "import matplotlib.pyplot as plt\n",
    "def display_partition(x_values, y_values, assignments_values):\n",
    "    labels = []\n",
    "    colors = [\"red\", \"blue\", \"green\", \"yellow\"]\n",
    "    for i in range(len(assignments_values)):\n",
    "        labels.append(colors[assignments_values[i]])\n",
    "    color = labels\n",
    "    df = pd.DataFrame(dict(x = x_values, y = y_values, color = labels))\n",
    "    fig, ax = plt.subplots()\n",
    "    ax.scatter(df['x'], df['y'], c=df['color'])\n",
    "    plt.show()"
   ]
  },
  {
   "cell_type": "code",
   "execution_count": 82,
   "metadata": {
    "collapsed": false
   },
   "outputs": [],
   "source": [
    "# run\n",
    "init_op = tf.global_variables_initializer()\n",
    "sess = tf.Session()\n",
    "sess.run(init_op)\n",
    "for step in range(num_steps):\n",
    "    _, centroid_values, assignments_values = sess.run([update_centroids, centroids, assignments])\n",
    "plt.plot(x_values, y_values, 'o', label = 'Input Data')\n",
    "plt.legend()\n",
    "plt.show()\n",
    "display_partition(x_values, y_values, assignments_values)"
   ]
  }
 ],
 "metadata": {
  "kernelspec": {
   "display_name": "Python 3",
   "language": "python",
   "name": "python3"
  },
  "language_info": {
   "codemirror_mode": {
    "name": "ipython",
    "version": 3
   },
   "file_extension": ".py",
   "mimetype": "text/x-python",
   "name": "python",
   "nbconvert_exporter": "python",
   "pygments_lexer": "ipython3",
   "version": "3.5.1"
  }
 },
 "nbformat": 4,
 "nbformat_minor": 0
}
